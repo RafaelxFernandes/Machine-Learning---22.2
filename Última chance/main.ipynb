{
 "cells": [
  {
   "cell_type": "markdown",
   "id": "9ef1f51f",
   "metadata": {},
   "source": [
    "# Classificação de filmes\n",
    "## UFRJ 2022.2 - Introdução à Aprendizagem de Máquina\n",
    "\n",
    "- Rafael: SVM e Naive Bayes"
   ]
  },
  {
   "cell_type": "markdown",
   "id": "3afaea46",
   "metadata": {},
   "source": [
    "## Bibliotecas"
   ]
  },
  {
   "cell_type": "code",
   "execution_count": 1,
   "id": "372f85c0",
   "metadata": {},
   "outputs": [],
   "source": [
    "import pandas as pd\n",
    "import numpy as np"
   ]
  },
  {
   "cell_type": "markdown",
   "id": "66051af0",
   "metadata": {},
   "source": [
    "## Base de dados\n",
    "A coluna \"Booking_ID\" foi deletada pois continha apenas os identificadores únicos das reservas, e tais valores são iguais aos índices do próprio DataFrame com que trabalharemos."
   ]
  },
  {
   "cell_type": "code",
   "execution_count": 2,
   "id": "b2f6ee2b",
   "metadata": {},
   "outputs": [
    {
     "data": {
      "text/html": [
       "<div>\n",
       "<style scoped>\n",
       "    .dataframe tbody tr th:only-of-type {\n",
       "        vertical-align: middle;\n",
       "    }\n",
       "\n",
       "    .dataframe tbody tr th {\n",
       "        vertical-align: top;\n",
       "    }\n",
       "\n",
       "    .dataframe thead th {\n",
       "        text-align: right;\n",
       "    }\n",
       "</style>\n",
       "<table border=\"1\" class=\"dataframe\">\n",
       "  <thead>\n",
       "    <tr style=\"text-align: right;\">\n",
       "      <th></th>\n",
       "      <th>no_of_adults</th>\n",
       "      <th>no_of_children</th>\n",
       "      <th>no_of_weekend_nights</th>\n",
       "      <th>no_of_week_nights</th>\n",
       "      <th>type_of_meal_plan</th>\n",
       "      <th>required_car_parking_space</th>\n",
       "      <th>room_type_reserved</th>\n",
       "      <th>lead_time</th>\n",
       "      <th>arrival_year</th>\n",
       "      <th>arrival_month</th>\n",
       "      <th>arrival_date</th>\n",
       "      <th>market_segment_type</th>\n",
       "      <th>repeated_guest</th>\n",
       "      <th>no_of_previous_cancellations</th>\n",
       "      <th>no_of_previous_bookings_not_canceled</th>\n",
       "      <th>avg_price_per_room</th>\n",
       "      <th>no_of_special_requests</th>\n",
       "      <th>booking_status</th>\n",
       "    </tr>\n",
       "  </thead>\n",
       "  <tbody>\n",
       "    <tr>\n",
       "      <th>0</th>\n",
       "      <td>2</td>\n",
       "      <td>0</td>\n",
       "      <td>1</td>\n",
       "      <td>2</td>\n",
       "      <td>Meal Plan 1</td>\n",
       "      <td>0</td>\n",
       "      <td>Room_Type 1</td>\n",
       "      <td>224</td>\n",
       "      <td>2017</td>\n",
       "      <td>10</td>\n",
       "      <td>2</td>\n",
       "      <td>Offline</td>\n",
       "      <td>0</td>\n",
       "      <td>0</td>\n",
       "      <td>0</td>\n",
       "      <td>65.00</td>\n",
       "      <td>0</td>\n",
       "      <td>Not_Canceled</td>\n",
       "    </tr>\n",
       "    <tr>\n",
       "      <th>1</th>\n",
       "      <td>2</td>\n",
       "      <td>0</td>\n",
       "      <td>2</td>\n",
       "      <td>3</td>\n",
       "      <td>Not Selected</td>\n",
       "      <td>0</td>\n",
       "      <td>Room_Type 1</td>\n",
       "      <td>5</td>\n",
       "      <td>2018</td>\n",
       "      <td>11</td>\n",
       "      <td>6</td>\n",
       "      <td>Online</td>\n",
       "      <td>0</td>\n",
       "      <td>0</td>\n",
       "      <td>0</td>\n",
       "      <td>106.68</td>\n",
       "      <td>1</td>\n",
       "      <td>Not_Canceled</td>\n",
       "    </tr>\n",
       "    <tr>\n",
       "      <th>2</th>\n",
       "      <td>1</td>\n",
       "      <td>0</td>\n",
       "      <td>2</td>\n",
       "      <td>1</td>\n",
       "      <td>Meal Plan 1</td>\n",
       "      <td>0</td>\n",
       "      <td>Room_Type 1</td>\n",
       "      <td>1</td>\n",
       "      <td>2018</td>\n",
       "      <td>2</td>\n",
       "      <td>28</td>\n",
       "      <td>Online</td>\n",
       "      <td>0</td>\n",
       "      <td>0</td>\n",
       "      <td>0</td>\n",
       "      <td>60.00</td>\n",
       "      <td>0</td>\n",
       "      <td>Canceled</td>\n",
       "    </tr>\n",
       "    <tr>\n",
       "      <th>3</th>\n",
       "      <td>2</td>\n",
       "      <td>0</td>\n",
       "      <td>0</td>\n",
       "      <td>2</td>\n",
       "      <td>Meal Plan 1</td>\n",
       "      <td>0</td>\n",
       "      <td>Room_Type 1</td>\n",
       "      <td>211</td>\n",
       "      <td>2018</td>\n",
       "      <td>5</td>\n",
       "      <td>20</td>\n",
       "      <td>Online</td>\n",
       "      <td>0</td>\n",
       "      <td>0</td>\n",
       "      <td>0</td>\n",
       "      <td>100.00</td>\n",
       "      <td>0</td>\n",
       "      <td>Canceled</td>\n",
       "    </tr>\n",
       "    <tr>\n",
       "      <th>4</th>\n",
       "      <td>2</td>\n",
       "      <td>0</td>\n",
       "      <td>1</td>\n",
       "      <td>1</td>\n",
       "      <td>Not Selected</td>\n",
       "      <td>0</td>\n",
       "      <td>Room_Type 1</td>\n",
       "      <td>48</td>\n",
       "      <td>2018</td>\n",
       "      <td>4</td>\n",
       "      <td>11</td>\n",
       "      <td>Online</td>\n",
       "      <td>0</td>\n",
       "      <td>0</td>\n",
       "      <td>0</td>\n",
       "      <td>94.50</td>\n",
       "      <td>0</td>\n",
       "      <td>Canceled</td>\n",
       "    </tr>\n",
       "  </tbody>\n",
       "</table>\n",
       "</div>"
      ],
      "text/plain": [
       "   no_of_adults  no_of_children  no_of_weekend_nights  no_of_week_nights  \\\n",
       "0             2               0                     1                  2   \n",
       "1             2               0                     2                  3   \n",
       "2             1               0                     2                  1   \n",
       "3             2               0                     0                  2   \n",
       "4             2               0                     1                  1   \n",
       "\n",
       "  type_of_meal_plan  required_car_parking_space room_type_reserved  lead_time  \\\n",
       "0       Meal Plan 1                           0        Room_Type 1        224   \n",
       "1      Not Selected                           0        Room_Type 1          5   \n",
       "2       Meal Plan 1                           0        Room_Type 1          1   \n",
       "3       Meal Plan 1                           0        Room_Type 1        211   \n",
       "4      Not Selected                           0        Room_Type 1         48   \n",
       "\n",
       "   arrival_year  arrival_month  arrival_date market_segment_type  \\\n",
       "0          2017             10             2             Offline   \n",
       "1          2018             11             6              Online   \n",
       "2          2018              2            28              Online   \n",
       "3          2018              5            20              Online   \n",
       "4          2018              4            11              Online   \n",
       "\n",
       "   repeated_guest  no_of_previous_cancellations  \\\n",
       "0               0                             0   \n",
       "1               0                             0   \n",
       "2               0                             0   \n",
       "3               0                             0   \n",
       "4               0                             0   \n",
       "\n",
       "   no_of_previous_bookings_not_canceled  avg_price_per_room  \\\n",
       "0                                     0               65.00   \n",
       "1                                     0              106.68   \n",
       "2                                     0               60.00   \n",
       "3                                     0              100.00   \n",
       "4                                     0               94.50   \n",
       "\n",
       "   no_of_special_requests booking_status  \n",
       "0                       0   Not_Canceled  \n",
       "1                       1   Not_Canceled  \n",
       "2                       0       Canceled  \n",
       "3                       0       Canceled  \n",
       "4                       0       Canceled  "
      ]
     },
     "execution_count": 2,
     "metadata": {},
     "output_type": "execute_result"
    }
   ],
   "source": [
    "df = pd.read_csv('Dados/Hotel Reservations.csv')\n",
    "df.drop('Booking_ID', axis = 1, inplace = True)\n",
    "df.head()"
   ]
  },
  {
   "cell_type": "markdown",
   "id": "e31fbf22",
   "metadata": {},
   "source": [
    "## Tratando os dados\n",
    "\n",
    "Realizado com base nos slides da Aula 1 - Base de Dados e Outliers"
   ]
  },
  {
   "cell_type": "markdown",
   "id": "78ab7271",
   "metadata": {},
   "source": [
    "### Checando se há valores nulos"
   ]
  },
  {
   "cell_type": "code",
   "execution_count": 3,
   "id": "600eb435",
   "metadata": {},
   "outputs": [
    {
     "data": {
      "text/plain": [
       "no_of_adults                            0\n",
       "no_of_children                          0\n",
       "no_of_weekend_nights                    0\n",
       "no_of_week_nights                       0\n",
       "type_of_meal_plan                       0\n",
       "required_car_parking_space              0\n",
       "room_type_reserved                      0\n",
       "lead_time                               0\n",
       "arrival_year                            0\n",
       "arrival_month                           0\n",
       "arrival_date                            0\n",
       "market_segment_type                     0\n",
       "repeated_guest                          0\n",
       "no_of_previous_cancellations            0\n",
       "no_of_previous_bookings_not_canceled    0\n",
       "avg_price_per_room                      0\n",
       "no_of_special_requests                  0\n",
       "booking_status                          0\n",
       "dtype: int64"
      ]
     },
     "execution_count": 3,
     "metadata": {},
     "output_type": "execute_result"
    }
   ],
   "source": [
    "df.isnull().sum()"
   ]
  },
  {
   "cell_type": "markdown",
   "id": "fb3354b7",
   "metadata": {},
   "source": [
    "### Checando se há valores duplicados"
   ]
  },
  {
   "cell_type": "code",
   "execution_count": 4,
   "id": "d0c87b59",
   "metadata": {},
   "outputs": [
    {
     "data": {
      "text/plain": [
       "10275"
      ]
     },
     "execution_count": 4,
     "metadata": {},
     "output_type": "execute_result"
    }
   ],
   "source": [
    "df.duplicated().sum()"
   ]
  },
  {
   "cell_type": "code",
   "execution_count": 5,
   "id": "d9fce7ae",
   "metadata": {},
   "outputs": [],
   "source": [
    "df.drop_duplicates(inplace = True)"
   ]
  },
  {
   "cell_type": "markdown",
   "id": "d3227c27",
   "metadata": {},
   "source": [
    "### Checando tipos das colunas"
   ]
  },
  {
   "cell_type": "code",
   "execution_count": 6,
   "id": "423e6358",
   "metadata": {},
   "outputs": [
    {
     "name": "stdout",
     "output_type": "stream",
     "text": [
      "<class 'pandas.core.frame.DataFrame'>\n",
      "Int64Index: 26000 entries, 0 to 36273\n",
      "Data columns (total 18 columns):\n",
      " #   Column                                Non-Null Count  Dtype  \n",
      "---  ------                                --------------  -----  \n",
      " 0   no_of_adults                          26000 non-null  int64  \n",
      " 1   no_of_children                        26000 non-null  int64  \n",
      " 2   no_of_weekend_nights                  26000 non-null  int64  \n",
      " 3   no_of_week_nights                     26000 non-null  int64  \n",
      " 4   type_of_meal_plan                     26000 non-null  object \n",
      " 5   required_car_parking_space            26000 non-null  int64  \n",
      " 6   room_type_reserved                    26000 non-null  object \n",
      " 7   lead_time                             26000 non-null  int64  \n",
      " 8   arrival_year                          26000 non-null  int64  \n",
      " 9   arrival_month                         26000 non-null  int64  \n",
      " 10  arrival_date                          26000 non-null  int64  \n",
      " 11  market_segment_type                   26000 non-null  object \n",
      " 12  repeated_guest                        26000 non-null  int64  \n",
      " 13  no_of_previous_cancellations          26000 non-null  int64  \n",
      " 14  no_of_previous_bookings_not_canceled  26000 non-null  int64  \n",
      " 15  avg_price_per_room                    26000 non-null  float64\n",
      " 16  no_of_special_requests                26000 non-null  int64  \n",
      " 17  booking_status                        26000 non-null  object \n",
      "dtypes: float64(1), int64(13), object(4)\n",
      "memory usage: 3.8+ MB\n"
     ]
    }
   ],
   "source": [
    "df.info()"
   ]
  },
  {
   "cell_type": "markdown",
   "id": "71ad3897",
   "metadata": {},
   "source": [
    "Precisamos transformar a coluna \"booking_status\" de \"object\" em valores inteiros para realizarmos os métodos de classificação. Dado que as colunas \"type_of_meal_plan\", \"room_type_reserved\" e \"market_segment_type\" podem desempenhar um papel importante na nossa classificação, realizaremos a mesma transformação nelas."
   ]
  },
  {
   "cell_type": "markdown",
   "id": "b5cadb23",
   "metadata": {},
   "source": [
    "#### Coluna booking_status"
   ]
  },
  {
   "cell_type": "code",
   "execution_count": 7,
   "id": "969193e3",
   "metadata": {},
   "outputs": [
    {
     "data": {
      "text/plain": [
       "array(['Not_Canceled', 'Canceled'], dtype=object)"
      ]
     },
     "execution_count": 7,
     "metadata": {},
     "output_type": "execute_result"
    }
   ],
   "source": [
    "df['booking_status'].unique()"
   ]
  },
  {
   "cell_type": "markdown",
   "id": "229ae09c",
   "metadata": {},
   "source": [
    "Realizando a transformação:\n",
    "\n",
    "- Canceled $\\rightarrow$ 1\n",
    "- Not canceled $\\rightarrow$ 0"
   ]
  },
  {
   "cell_type": "code",
   "execution_count": 8,
   "id": "ad5c6c81",
   "metadata": {},
   "outputs": [],
   "source": [
    "df['booking_status'] = np.where(df['booking_status'] == 'Canceled', 1, 0)"
   ]
  },
  {
   "cell_type": "markdown",
   "id": "70feb174",
   "metadata": {},
   "source": [
    "#### Coluna type_of_meal_plan"
   ]
  },
  {
   "cell_type": "code",
   "execution_count": 9,
   "id": "406d3cdd",
   "metadata": {},
   "outputs": [
    {
     "data": {
      "text/plain": [
       "array(['Meal Plan 1', 'Not Selected', 'Meal Plan 2', 'Meal Plan 3'],\n",
       "      dtype=object)"
      ]
     },
     "execution_count": 9,
     "metadata": {},
     "output_type": "execute_result"
    }
   ],
   "source": [
    "df['type_of_meal_plan'].unique()"
   ]
  },
  {
   "cell_type": "markdown",
   "id": "cac4752b",
   "metadata": {},
   "source": [
    "Realizando a transformação:\n",
    "\n",
    "- Meal Plan 1 $\\rightarrow$ 0 \n",
    "- Not Selected $\\rightarrow$ 1\n",
    "- Meal Plan 2 $\\rightarrow$ 2\n",
    "- Meal Plan 3 $\\rightarrow$ 3"
   ]
  },
  {
   "cell_type": "code",
   "execution_count": 10,
   "id": "33689f44",
   "metadata": {},
   "outputs": [],
   "source": [
    "# tomp = type of meal plan\n",
    "tomp_original_values = df['type_of_meal_plan'].unique().tolist()\n",
    "tomp_int_values = [value for value in range(len(tomp_original_values))]"
   ]
  },
  {
   "cell_type": "code",
   "execution_count": 11,
   "id": "d88ceaf0",
   "metadata": {},
   "outputs": [],
   "source": [
    "df.replace(tomp_original_values, tomp_int_values, inplace = True)"
   ]
  },
  {
   "cell_type": "markdown",
   "id": "407b2e63",
   "metadata": {},
   "source": [
    "#### Coluna room_type_reserved"
   ]
  },
  {
   "cell_type": "code",
   "execution_count": 12,
   "id": "d60c16ae",
   "metadata": {},
   "outputs": [
    {
     "data": {
      "text/plain": [
       "array(['Room_Type 1', 'Room_Type 4', 'Room_Type 2', 'Room_Type 6',\n",
       "       'Room_Type 5', 'Room_Type 7', 'Room_Type 3'], dtype=object)"
      ]
     },
     "execution_count": 12,
     "metadata": {},
     "output_type": "execute_result"
    }
   ],
   "source": [
    "df['room_type_reserved'].unique()"
   ]
  },
  {
   "cell_type": "markdown",
   "id": "d7f2a59d",
   "metadata": {},
   "source": [
    "Realizando a transformação:\n",
    "\n",
    "- Room_Type 1 $\\rightarrow$ 0\n",
    "- Room_Type 4 $\\rightarrow$ 1\n",
    "- Room_Type 2 $\\rightarrow$ 2\n",
    "- Room_Type 6 $\\rightarrow$ 3\n",
    "- Room_Type 5 $\\rightarrow$ 4\n",
    "- Room_Type 7 $\\rightarrow$ 5\n",
    "- Room_Type 3 $\\rightarrow$ 6"
   ]
  },
  {
   "cell_type": "code",
   "execution_count": 13,
   "id": "d3ff3d78",
   "metadata": {},
   "outputs": [],
   "source": [
    "# rtp = room type reserved\n",
    "rtp_original_values = df['room_type_reserved'].unique().tolist()\n",
    "rtp_int_values = [value for value in range(len(rtp_original_values))]"
   ]
  },
  {
   "cell_type": "code",
   "execution_count": 14,
   "id": "dbedecd3",
   "metadata": {},
   "outputs": [],
   "source": [
    "df.replace(rtp_original_values, rtp_int_values, inplace = True)"
   ]
  },
  {
   "cell_type": "markdown",
   "id": "80c0a67f",
   "metadata": {},
   "source": [
    "#### Coluna market_segment_type"
   ]
  },
  {
   "cell_type": "code",
   "execution_count": 15,
   "id": "9e0b488e",
   "metadata": {},
   "outputs": [
    {
     "data": {
      "text/plain": [
       "array(['Offline', 'Online', 'Corporate', 'Aviation', 'Complementary'],\n",
       "      dtype=object)"
      ]
     },
     "execution_count": 15,
     "metadata": {},
     "output_type": "execute_result"
    }
   ],
   "source": [
    "df['market_segment_type'].unique()"
   ]
  },
  {
   "cell_type": "markdown",
   "id": "bc0f224b",
   "metadata": {},
   "source": [
    "Realizando a transformação:\n",
    "\n",
    "- Offline $\\rightarrow$ 0\n",
    "- Online $\\rightarrow$ 1\n",
    "- Corporate $\\rightarrow$ 2\n",
    "- Aviation $\\rightarrow$ 3\n",
    "- Complementary $\\rightarrow$ 4"
   ]
  },
  {
   "cell_type": "code",
   "execution_count": 16,
   "id": "a8f6596a",
   "metadata": {},
   "outputs": [],
   "source": [
    "# mst = market segment type\n",
    "mst_original_values = df['market_segment_type'].unique().tolist()\n",
    "mst_int_values = [value for value in range(len(mst_original_values))]"
   ]
  },
  {
   "cell_type": "code",
   "execution_count": 17,
   "id": "d145c14b",
   "metadata": {},
   "outputs": [],
   "source": [
    "df.replace(mst_original_values, mst_int_values, inplace = True)"
   ]
  },
  {
   "cell_type": "code",
   "execution_count": 18,
   "id": "0c8b52ad",
   "metadata": {},
   "outputs": [
    {
     "data": {
      "text/html": [
       "<div>\n",
       "<style scoped>\n",
       "    .dataframe tbody tr th:only-of-type {\n",
       "        vertical-align: middle;\n",
       "    }\n",
       "\n",
       "    .dataframe tbody tr th {\n",
       "        vertical-align: top;\n",
       "    }\n",
       "\n",
       "    .dataframe thead th {\n",
       "        text-align: right;\n",
       "    }\n",
       "</style>\n",
       "<table border=\"1\" class=\"dataframe\">\n",
       "  <thead>\n",
       "    <tr style=\"text-align: right;\">\n",
       "      <th></th>\n",
       "      <th>no_of_adults</th>\n",
       "      <th>no_of_children</th>\n",
       "      <th>no_of_weekend_nights</th>\n",
       "      <th>no_of_week_nights</th>\n",
       "      <th>type_of_meal_plan</th>\n",
       "      <th>required_car_parking_space</th>\n",
       "      <th>room_type_reserved</th>\n",
       "      <th>lead_time</th>\n",
       "      <th>arrival_year</th>\n",
       "      <th>arrival_month</th>\n",
       "      <th>arrival_date</th>\n",
       "      <th>market_segment_type</th>\n",
       "      <th>repeated_guest</th>\n",
       "      <th>no_of_previous_cancellations</th>\n",
       "      <th>no_of_previous_bookings_not_canceled</th>\n",
       "      <th>avg_price_per_room</th>\n",
       "      <th>no_of_special_requests</th>\n",
       "      <th>booking_status</th>\n",
       "    </tr>\n",
       "  </thead>\n",
       "  <tbody>\n",
       "    <tr>\n",
       "      <th>0</th>\n",
       "      <td>2</td>\n",
       "      <td>0</td>\n",
       "      <td>1</td>\n",
       "      <td>2</td>\n",
       "      <td>0</td>\n",
       "      <td>0</td>\n",
       "      <td>0</td>\n",
       "      <td>224</td>\n",
       "      <td>2017</td>\n",
       "      <td>10</td>\n",
       "      <td>2</td>\n",
       "      <td>0</td>\n",
       "      <td>0</td>\n",
       "      <td>0</td>\n",
       "      <td>0</td>\n",
       "      <td>65.00</td>\n",
       "      <td>0</td>\n",
       "      <td>0</td>\n",
       "    </tr>\n",
       "    <tr>\n",
       "      <th>1</th>\n",
       "      <td>2</td>\n",
       "      <td>0</td>\n",
       "      <td>2</td>\n",
       "      <td>3</td>\n",
       "      <td>1</td>\n",
       "      <td>0</td>\n",
       "      <td>0</td>\n",
       "      <td>5</td>\n",
       "      <td>2018</td>\n",
       "      <td>11</td>\n",
       "      <td>6</td>\n",
       "      <td>1</td>\n",
       "      <td>0</td>\n",
       "      <td>0</td>\n",
       "      <td>0</td>\n",
       "      <td>106.68</td>\n",
       "      <td>1</td>\n",
       "      <td>0</td>\n",
       "    </tr>\n",
       "    <tr>\n",
       "      <th>2</th>\n",
       "      <td>1</td>\n",
       "      <td>0</td>\n",
       "      <td>2</td>\n",
       "      <td>1</td>\n",
       "      <td>0</td>\n",
       "      <td>0</td>\n",
       "      <td>0</td>\n",
       "      <td>1</td>\n",
       "      <td>2018</td>\n",
       "      <td>2</td>\n",
       "      <td>28</td>\n",
       "      <td>1</td>\n",
       "      <td>0</td>\n",
       "      <td>0</td>\n",
       "      <td>0</td>\n",
       "      <td>60.00</td>\n",
       "      <td>0</td>\n",
       "      <td>1</td>\n",
       "    </tr>\n",
       "    <tr>\n",
       "      <th>3</th>\n",
       "      <td>2</td>\n",
       "      <td>0</td>\n",
       "      <td>0</td>\n",
       "      <td>2</td>\n",
       "      <td>0</td>\n",
       "      <td>0</td>\n",
       "      <td>0</td>\n",
       "      <td>211</td>\n",
       "      <td>2018</td>\n",
       "      <td>5</td>\n",
       "      <td>20</td>\n",
       "      <td>1</td>\n",
       "      <td>0</td>\n",
       "      <td>0</td>\n",
       "      <td>0</td>\n",
       "      <td>100.00</td>\n",
       "      <td>0</td>\n",
       "      <td>1</td>\n",
       "    </tr>\n",
       "    <tr>\n",
       "      <th>4</th>\n",
       "      <td>2</td>\n",
       "      <td>0</td>\n",
       "      <td>1</td>\n",
       "      <td>1</td>\n",
       "      <td>1</td>\n",
       "      <td>0</td>\n",
       "      <td>0</td>\n",
       "      <td>48</td>\n",
       "      <td>2018</td>\n",
       "      <td>4</td>\n",
       "      <td>11</td>\n",
       "      <td>1</td>\n",
       "      <td>0</td>\n",
       "      <td>0</td>\n",
       "      <td>0</td>\n",
       "      <td>94.50</td>\n",
       "      <td>0</td>\n",
       "      <td>1</td>\n",
       "    </tr>\n",
       "    <tr>\n",
       "      <th>...</th>\n",
       "      <td>...</td>\n",
       "      <td>...</td>\n",
       "      <td>...</td>\n",
       "      <td>...</td>\n",
       "      <td>...</td>\n",
       "      <td>...</td>\n",
       "      <td>...</td>\n",
       "      <td>...</td>\n",
       "      <td>...</td>\n",
       "      <td>...</td>\n",
       "      <td>...</td>\n",
       "      <td>...</td>\n",
       "      <td>...</td>\n",
       "      <td>...</td>\n",
       "      <td>...</td>\n",
       "      <td>...</td>\n",
       "      <td>...</td>\n",
       "      <td>...</td>\n",
       "    </tr>\n",
       "    <tr>\n",
       "      <th>36269</th>\n",
       "      <td>2</td>\n",
       "      <td>2</td>\n",
       "      <td>0</td>\n",
       "      <td>1</td>\n",
       "      <td>0</td>\n",
       "      <td>0</td>\n",
       "      <td>3</td>\n",
       "      <td>0</td>\n",
       "      <td>2018</td>\n",
       "      <td>10</td>\n",
       "      <td>6</td>\n",
       "      <td>1</td>\n",
       "      <td>0</td>\n",
       "      <td>0</td>\n",
       "      <td>0</td>\n",
       "      <td>216.00</td>\n",
       "      <td>0</td>\n",
       "      <td>1</td>\n",
       "    </tr>\n",
       "    <tr>\n",
       "      <th>36270</th>\n",
       "      <td>3</td>\n",
       "      <td>0</td>\n",
       "      <td>2</td>\n",
       "      <td>6</td>\n",
       "      <td>0</td>\n",
       "      <td>0</td>\n",
       "      <td>1</td>\n",
       "      <td>85</td>\n",
       "      <td>2018</td>\n",
       "      <td>8</td>\n",
       "      <td>3</td>\n",
       "      <td>1</td>\n",
       "      <td>0</td>\n",
       "      <td>0</td>\n",
       "      <td>0</td>\n",
       "      <td>167.80</td>\n",
       "      <td>1</td>\n",
       "      <td>0</td>\n",
       "    </tr>\n",
       "    <tr>\n",
       "      <th>36271</th>\n",
       "      <td>2</td>\n",
       "      <td>0</td>\n",
       "      <td>1</td>\n",
       "      <td>3</td>\n",
       "      <td>0</td>\n",
       "      <td>0</td>\n",
       "      <td>0</td>\n",
       "      <td>228</td>\n",
       "      <td>2018</td>\n",
       "      <td>10</td>\n",
       "      <td>17</td>\n",
       "      <td>1</td>\n",
       "      <td>0</td>\n",
       "      <td>0</td>\n",
       "      <td>0</td>\n",
       "      <td>90.95</td>\n",
       "      <td>2</td>\n",
       "      <td>1</td>\n",
       "    </tr>\n",
       "    <tr>\n",
       "      <th>36272</th>\n",
       "      <td>2</td>\n",
       "      <td>0</td>\n",
       "      <td>2</td>\n",
       "      <td>6</td>\n",
       "      <td>0</td>\n",
       "      <td>0</td>\n",
       "      <td>0</td>\n",
       "      <td>148</td>\n",
       "      <td>2018</td>\n",
       "      <td>7</td>\n",
       "      <td>1</td>\n",
       "      <td>1</td>\n",
       "      <td>0</td>\n",
       "      <td>0</td>\n",
       "      <td>0</td>\n",
       "      <td>98.39</td>\n",
       "      <td>2</td>\n",
       "      <td>0</td>\n",
       "    </tr>\n",
       "    <tr>\n",
       "      <th>36273</th>\n",
       "      <td>2</td>\n",
       "      <td>0</td>\n",
       "      <td>0</td>\n",
       "      <td>3</td>\n",
       "      <td>1</td>\n",
       "      <td>0</td>\n",
       "      <td>0</td>\n",
       "      <td>63</td>\n",
       "      <td>2018</td>\n",
       "      <td>4</td>\n",
       "      <td>21</td>\n",
       "      <td>1</td>\n",
       "      <td>0</td>\n",
       "      <td>0</td>\n",
       "      <td>0</td>\n",
       "      <td>94.50</td>\n",
       "      <td>0</td>\n",
       "      <td>1</td>\n",
       "    </tr>\n",
       "  </tbody>\n",
       "</table>\n",
       "<p>26000 rows × 18 columns</p>\n",
       "</div>"
      ],
      "text/plain": [
       "       no_of_adults  no_of_children  no_of_weekend_nights  no_of_week_nights  \\\n",
       "0                 2               0                     1                  2   \n",
       "1                 2               0                     2                  3   \n",
       "2                 1               0                     2                  1   \n",
       "3                 2               0                     0                  2   \n",
       "4                 2               0                     1                  1   \n",
       "...             ...             ...                   ...                ...   \n",
       "36269             2               2                     0                  1   \n",
       "36270             3               0                     2                  6   \n",
       "36271             2               0                     1                  3   \n",
       "36272             2               0                     2                  6   \n",
       "36273             2               0                     0                  3   \n",
       "\n",
       "       type_of_meal_plan  required_car_parking_space  room_type_reserved  \\\n",
       "0                      0                           0                   0   \n",
       "1                      1                           0                   0   \n",
       "2                      0                           0                   0   \n",
       "3                      0                           0                   0   \n",
       "4                      1                           0                   0   \n",
       "...                  ...                         ...                 ...   \n",
       "36269                  0                           0                   3   \n",
       "36270                  0                           0                   1   \n",
       "36271                  0                           0                   0   \n",
       "36272                  0                           0                   0   \n",
       "36273                  1                           0                   0   \n",
       "\n",
       "       lead_time  arrival_year  arrival_month  arrival_date  \\\n",
       "0            224          2017             10             2   \n",
       "1              5          2018             11             6   \n",
       "2              1          2018              2            28   \n",
       "3            211          2018              5            20   \n",
       "4             48          2018              4            11   \n",
       "...          ...           ...            ...           ...   \n",
       "36269          0          2018             10             6   \n",
       "36270         85          2018              8             3   \n",
       "36271        228          2018             10            17   \n",
       "36272        148          2018              7             1   \n",
       "36273         63          2018              4            21   \n",
       "\n",
       "       market_segment_type  repeated_guest  no_of_previous_cancellations  \\\n",
       "0                        0               0                             0   \n",
       "1                        1               0                             0   \n",
       "2                        1               0                             0   \n",
       "3                        1               0                             0   \n",
       "4                        1               0                             0   \n",
       "...                    ...             ...                           ...   \n",
       "36269                    1               0                             0   \n",
       "36270                    1               0                             0   \n",
       "36271                    1               0                             0   \n",
       "36272                    1               0                             0   \n",
       "36273                    1               0                             0   \n",
       "\n",
       "       no_of_previous_bookings_not_canceled  avg_price_per_room  \\\n",
       "0                                         0               65.00   \n",
       "1                                         0              106.68   \n",
       "2                                         0               60.00   \n",
       "3                                         0              100.00   \n",
       "4                                         0               94.50   \n",
       "...                                     ...                 ...   \n",
       "36269                                     0              216.00   \n",
       "36270                                     0              167.80   \n",
       "36271                                     0               90.95   \n",
       "36272                                     0               98.39   \n",
       "36273                                     0               94.50   \n",
       "\n",
       "       no_of_special_requests  booking_status  \n",
       "0                           0               0  \n",
       "1                           1               0  \n",
       "2                           0               1  \n",
       "3                           0               1  \n",
       "4                           0               1  \n",
       "...                       ...             ...  \n",
       "36269                       0               1  \n",
       "36270                       1               0  \n",
       "36271                       2               1  \n",
       "36272                       2               0  \n",
       "36273                       0               1  \n",
       "\n",
       "[26000 rows x 18 columns]"
      ]
     },
     "execution_count": 18,
     "metadata": {},
     "output_type": "execute_result"
    }
   ],
   "source": [
    "df"
   ]
  },
  {
   "cell_type": "code",
   "execution_count": null,
   "id": "fe68ced3",
   "metadata": {},
   "outputs": [],
   "source": []
  }
 ],
 "metadata": {
  "kernelspec": {
   "display_name": "Python 3 (ipykernel)",
   "language": "python",
   "name": "python3"
  },
  "language_info": {
   "codemirror_mode": {
    "name": "ipython",
    "version": 3
   },
   "file_extension": ".py",
   "mimetype": "text/x-python",
   "name": "python",
   "nbconvert_exporter": "python",
   "pygments_lexer": "ipython3",
   "version": "3.9.9"
  }
 },
 "nbformat": 4,
 "nbformat_minor": 5
}
